{
 "cells": [
  {
   "attachments": {},
   "cell_type": "markdown",
   "metadata": {},
   "source": [
    "# Telegram bot to download multiple Telegram images"
   ]
  },
  {
   "cell_type": "code",
   "execution_count": 1,
   "metadata": {},
   "outputs": [],
   "source": [
    "import logging\n",
    "from telegram import Update, KeyboardButton, ReplyKeyboardMarkup\n",
    "from telegram.ext import ApplicationBuilder, ContextTypes, CommandHandler, MessageHandler, filters, JobQueue\n",
    "import nest_asyncio\n",
    "import urllib.request\n",
    "import shutil\n",
    "import os\n",
    "import datetime as dt\n",
    "\n",
    "nest_asyncio.apply()"
   ]
  },
  {
   "attachments": {},
   "cell_type": "markdown",
   "metadata": {},
   "source": [
    "We configure the logging and our bot token."
   ]
  },
  {
   "cell_type": "code",
   "execution_count": 2,
   "metadata": {},
   "outputs": [],
   "source": [
    "logging.basicConfig(\n",
    "    format='%(asctime)s - %(name)s - %(levelname)s - %(message)s',\n",
    "    level=logging.INFO\n",
    ")\n",
    "\n",
    "token = \"Private\""
   ]
  },
  {
   "attachments": {},
   "cell_type": "markdown",
   "metadata": {},
   "source": [
    "Now we define the functions.\n",
    "* `def start` is when you send \"/start\" to the bot to activate it.\n",
    "* `def finish_message` is to download the zip file with all the images once all of them are sent and processed.\n",
    "* `def remove_job_if_exists` is to avoid sending multiples finish messages, but only one at the end.\n",
    "* `def image_handler` is the function that is triggered when the user sent a image.\n",
    "* `def send_zip` send the zip file once the user tap or send \"/finish\"."
   ]
  },
  {
   "cell_type": "code",
   "execution_count": 3,
   "metadata": {},
   "outputs": [],
   "source": [
    "async def start(update: Update, context: ContextTypes.DEFAULT_TYPE):\n",
    "    await context.bot.send_message(chat_id=update.effective_chat.id, text=\"Hello there, I'm a bot!\\nForward me telegram images and I will download them for you\")\n",
    "\n",
    "async def finish_message(context: ContextTypes.DEFAULT_TYPE):\n",
    "    await context.bot.send_message(context.job.chat_id, text=\"Tap /finish or send /finish to the bot in order to get the images.\")\n",
    "\n",
    "def remove_job_if_exists(name: str, context: ContextTypes.DEFAULT_TYPE) -> bool:\n",
    "    current_jobs = context.job_queue.get_jobs_by_name(name)\n",
    "    if not current_jobs:\n",
    "        return False\n",
    "    for job in current_jobs:\n",
    "        job.schedule_removal()\n",
    "    return True\n",
    "\n",
    "async def image_handler(update: Update, context: ContextTypes.DEFAULT_TYPE):\n",
    "    image = await update.message.photo[-1].get_file()\n",
    "    \n",
    "    if not os.path.exists(\"C:/Users/Atenea/Desktop/temp\"):\n",
    "        os.mkdir(\"C:/Users/Atenea/Desktop/temp\")\n",
    "\n",
    "    await image.download_to_drive(f\"C:/Users/Atenea/Desktop/temp/{image.file_unique_id}.jpg\")\n",
    "\n",
    "    job_removed = remove_job_if_exists(\"image\", context)\n",
    "    context.job_queue.run_once(name=\"image\",callback=finish_message, when=update.message.date + dt.timedelta(seconds = 3),chat_id=update.effective_chat.id)\n",
    "\n",
    "async def send_zip(update: Update,context: ContextTypes.DEFAULT_TYPE):\n",
    "\n",
    "    shutil.make_archive(\"C:/Users/Atenea/Desktop/images_downloaded\", 'zip', \"C:/Users/Atenea/Desktop/temp\")\n",
    "    shutil.rmtree(\"C:/Users/Atenea/Desktop/temp\")\n",
    "    await context.bot.send_document(chat_id=update.effective_chat.id, document=\"C:/Users/Atenea/Desktop/images_downloaded.zip\")\n",
    "    shutil.rmtree(\"C:/Users/Atenea/Desktop/images_downloaded.zip\")\n"
   ]
  },
  {
   "attachments": {},
   "cell_type": "markdown",
   "metadata": {},
   "source": [
    "Here we define the behaviour of the app and run it."
   ]
  },
  {
   "cell_type": "code",
   "execution_count": 4,
   "metadata": {},
   "outputs": [
    {
     "name": "stderr",
     "output_type": "stream",
     "text": [
      "2023-03-14 21:07:22,091 - apscheduler.scheduler - INFO - Scheduler started\n",
      "2023-03-14 21:07:22,094 - telegram.ext._application - INFO - Application started\n",
      "2023-03-14 21:07:43,140 - apscheduler.scheduler - INFO - Added job \"image\" to job store \"default\"\n",
      "2023-03-14 21:07:43,318 - apscheduler.scheduler - INFO - Removed job 8a4e4e7638a04962bbef1fd05bb720d0\n",
      "2023-03-14 21:07:43,321 - apscheduler.scheduler - INFO - Added job \"image\" to job store \"default\"\n",
      "2023-03-14 21:07:43,518 - apscheduler.scheduler - INFO - Removed job cd41d63a1d184eb69c27f5c2304daba9\n",
      "2023-03-14 21:07:43,520 - apscheduler.scheduler - INFO - Added job \"image\" to job store \"default\"\n",
      "2023-03-14 21:07:44,014 - apscheduler.scheduler - INFO - Removed job 596ca83f97f046d88bc413efd6083ead\n",
      "2023-03-14 21:07:44,015 - apscheduler.executors.default - INFO - Running job \"image (trigger: date[2023-03-14 20:07:44 UTC], next run at: 2023-03-14 20:07:44 UTC)\" (scheduled at 2023-03-14 20:07:44+00:00)\n",
      "2023-03-14 21:07:44,100 - apscheduler.executors.default - INFO - Job \"image (trigger: date[2023-03-14 20:07:44 UTC], next run at: 2023-03-14 20:07:44 UTC)\" executed successfully\n",
      "2023-03-14 21:07:46,664 - telegram.ext._application - ERROR - No error handlers are registered, logging exception.\n",
      "Traceback (most recent call last):\n",
      "  File \"c:\\Users\\Atenea\\AppData\\Local\\Programs\\Python\\Python310\\lib\\site-packages\\telegram\\ext\\_application.py\", line 1063, in process_update\n",
      "    await coroutine\n",
      "  File \"c:\\Users\\Atenea\\AppData\\Local\\Programs\\Python\\Python310\\lib\\site-packages\\telegram\\ext\\_handler.py\", line 141, in handle_update\n",
      "    return await self.callback(update, context)\n",
      "  File \"C:\\Users\\Atenea\\AppData\\Local\\Temp\\ipykernel_15248\\1270439391.py\", line 31, in send_zip\n",
      "    shutil.rmtree(\"C:/Users/Atenea/Desktop/images_downloaded.zip\")\n",
      "  File \"c:\\Users\\Atenea\\AppData\\Local\\Programs\\Python\\Python310\\lib\\shutil.py\", line 749, in rmtree\n",
      "    return _rmtree_unsafe(path, onerror)\n",
      "  File \"c:\\Users\\Atenea\\AppData\\Local\\Programs\\Python\\Python310\\lib\\shutil.py\", line 600, in _rmtree_unsafe\n",
      "    onerror(os.scandir, path, sys.exc_info())\n",
      "  File \"c:\\Users\\Atenea\\AppData\\Local\\Programs\\Python\\Python310\\lib\\shutil.py\", line 597, in _rmtree_unsafe\n",
      "    with os.scandir(path) as scandir_it:\n",
      "NotADirectoryError: [WinError 267] El nombre del directorio no es válido: 'C:/Users/Atenea/Desktop/images_downloaded.zip'\n",
      "2023-03-14 21:08:06,223 - telegram.ext._application - INFO - Application is stopping. This might take a moment.\n",
      "2023-03-14 21:08:06,226 - apscheduler.scheduler - INFO - Scheduler has been shut down\n",
      "2023-03-14 21:08:06,227 - telegram.ext._application - INFO - Application.stop() complete\n"
     ]
    },
    {
     "ename": "RuntimeError",
     "evalue": "Cannot close a running event loop",
     "output_type": "error",
     "traceback": [
      "\u001b[1;31m---------------------------------------------------------------------------\u001b[0m",
      "\u001b[1;31mRuntimeError\u001b[0m                              Traceback (most recent call last)",
      "Cell \u001b[1;32mIn[4], line 12\u001b[0m\n\u001b[0;32m      9\u001b[0m application\u001b[39m.\u001b[39madd_handler(image_handler)\n\u001b[0;32m     10\u001b[0m application\u001b[39m.\u001b[39madd_handler(send_zip_handler)\n\u001b[1;32m---> 12\u001b[0m application\u001b[39m.\u001b[39;49mrun_polling()\n",
      "File \u001b[1;32mc:\\Users\\Atenea\\AppData\\Local\\Programs\\Python\\Python310\\lib\\site-packages\\telegram\\ext\\_application.py:694\u001b[0m, in \u001b[0;36mApplication.run_polling\u001b[1;34m(self, poll_interval, timeout, bootstrap_retries, read_timeout, write_timeout, connect_timeout, pool_timeout, allowed_updates, drop_pending_updates, close_loop, stop_signals)\u001b[0m\n\u001b[0;32m    691\u001b[0m \u001b[39mdef\u001b[39;00m \u001b[39merror_callback\u001b[39m(exc: TelegramError) \u001b[39m-\u001b[39m\u001b[39m>\u001b[39m \u001b[39mNone\u001b[39;00m:\n\u001b[0;32m    692\u001b[0m     \u001b[39mself\u001b[39m\u001b[39m.\u001b[39mcreate_task(\u001b[39mself\u001b[39m\u001b[39m.\u001b[39mprocess_error(error\u001b[39m=\u001b[39mexc, update\u001b[39m=\u001b[39m\u001b[39mNone\u001b[39;00m))\n\u001b[1;32m--> 694\u001b[0m \u001b[39mreturn\u001b[39;00m \u001b[39mself\u001b[39;49m\u001b[39m.\u001b[39;49m__run(\n\u001b[0;32m    695\u001b[0m     updater_coroutine\u001b[39m=\u001b[39;49m\u001b[39mself\u001b[39;49m\u001b[39m.\u001b[39;49mupdater\u001b[39m.\u001b[39;49mstart_polling(\n\u001b[0;32m    696\u001b[0m         poll_interval\u001b[39m=\u001b[39;49mpoll_interval,\n\u001b[0;32m    697\u001b[0m         timeout\u001b[39m=\u001b[39;49mtimeout,\n\u001b[0;32m    698\u001b[0m         bootstrap_retries\u001b[39m=\u001b[39;49mbootstrap_retries,\n\u001b[0;32m    699\u001b[0m         read_timeout\u001b[39m=\u001b[39;49mread_timeout,\n\u001b[0;32m    700\u001b[0m         write_timeout\u001b[39m=\u001b[39;49mwrite_timeout,\n\u001b[0;32m    701\u001b[0m         connect_timeout\u001b[39m=\u001b[39;49mconnect_timeout,\n\u001b[0;32m    702\u001b[0m         pool_timeout\u001b[39m=\u001b[39;49mpool_timeout,\n\u001b[0;32m    703\u001b[0m         allowed_updates\u001b[39m=\u001b[39;49mallowed_updates,\n\u001b[0;32m    704\u001b[0m         drop_pending_updates\u001b[39m=\u001b[39;49mdrop_pending_updates,\n\u001b[0;32m    705\u001b[0m         error_callback\u001b[39m=\u001b[39;49merror_callback,  \u001b[39m# if there is an error in fetching updates\u001b[39;49;00m\n\u001b[0;32m    706\u001b[0m     ),\n\u001b[0;32m    707\u001b[0m     close_loop\u001b[39m=\u001b[39;49mclose_loop,\n\u001b[0;32m    708\u001b[0m     stop_signals\u001b[39m=\u001b[39;49mstop_signals,\n\u001b[0;32m    709\u001b[0m )\n",
      "File \u001b[1;32mc:\\Users\\Atenea\\AppData\\Local\\Programs\\Python\\Python310\\lib\\site-packages\\telegram\\ext\\_application.py:895\u001b[0m, in \u001b[0;36mApplication.__run\u001b[1;34m(self, updater_coroutine, stop_signals, close_loop)\u001b[0m\n\u001b[0;32m    893\u001b[0m \u001b[39mfinally\u001b[39;00m:\n\u001b[0;32m    894\u001b[0m     \u001b[39mif\u001b[39;00m close_loop:\n\u001b[1;32m--> 895\u001b[0m         loop\u001b[39m.\u001b[39;49mclose()\n",
      "File \u001b[1;32mc:\\Users\\Atenea\\AppData\\Local\\Programs\\Python\\Python310\\lib\\asyncio\\selector_events.py:84\u001b[0m, in \u001b[0;36mBaseSelectorEventLoop.close\u001b[1;34m(self)\u001b[0m\n\u001b[0;32m     82\u001b[0m \u001b[39mdef\u001b[39;00m \u001b[39mclose\u001b[39m(\u001b[39mself\u001b[39m):\n\u001b[0;32m     83\u001b[0m     \u001b[39mif\u001b[39;00m \u001b[39mself\u001b[39m\u001b[39m.\u001b[39mis_running():\n\u001b[1;32m---> 84\u001b[0m         \u001b[39mraise\u001b[39;00m \u001b[39mRuntimeError\u001b[39;00m(\u001b[39m\"\u001b[39m\u001b[39mCannot close a running event loop\u001b[39m\u001b[39m\"\u001b[39m)\n\u001b[0;32m     85\u001b[0m     \u001b[39mif\u001b[39;00m \u001b[39mself\u001b[39m\u001b[39m.\u001b[39mis_closed():\n\u001b[0;32m     86\u001b[0m         \u001b[39mreturn\u001b[39;00m\n",
      "\u001b[1;31mRuntimeError\u001b[0m: Cannot close a running event loop"
     ]
    }
   ],
   "source": [
    "if __name__ == '__main__':\n",
    "    application = ApplicationBuilder().token(token).build()\n",
    "    \n",
    "    start_handler = CommandHandler('start', start)\n",
    "    image_handler = MessageHandler(filters.PHOTO, image_handler)\n",
    "    send_zip_handler = CommandHandler(\"finish\", send_zip)\n",
    "\n",
    "    application.add_handler(start_handler)\n",
    "    application.add_handler(image_handler)\n",
    "    application.add_handler(send_zip_handler)\n",
    "\n",
    "    application.run_polling()"
   ]
  }
 ],
 "metadata": {
  "kernelspec": {
   "display_name": "Python 3",
   "language": "python",
   "name": "python3"
  },
  "language_info": {
   "codemirror_mode": {
    "name": "ipython",
    "version": 3
   },
   "file_extension": ".py",
   "mimetype": "text/x-python",
   "name": "python",
   "nbconvert_exporter": "python",
   "pygments_lexer": "ipython3",
   "version": "3.10.8"
  },
  "orig_nbformat": 4,
  "vscode": {
   "interpreter": {
    "hash": "a5b5aa7d95631abb3295a399a3e545c36d57854cae4f70f17b19ffee637b54b0"
   }
  }
 },
 "nbformat": 4,
 "nbformat_minor": 2
}
