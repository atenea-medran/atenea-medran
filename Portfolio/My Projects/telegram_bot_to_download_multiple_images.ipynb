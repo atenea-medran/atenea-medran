{
 "cells": [
  {
   "attachments": {},
   "cell_type": "markdown",
   "metadata": {},
   "source": [
    "# Telegram bot to download multiple Telegram images"
   ]
  },
  {
   "cell_type": "code",
   "execution_count": null,
   "metadata": {},
   "outputs": [],
   "source": [
    "import logging\n",
    "from telegram import Update, KeyboardButton, ReplyKeyboardMarkup\n",
    "from telegram.ext import ApplicationBuilder, ContextTypes, CommandHandler, MessageHandler, filters, JobQueue\n",
    "import nest_asyncio\n",
    "import urllib.request\n",
    "import shutil\n",
    "import os\n",
    "import datetime as dt\n",
    "\n",
    "nest_asyncio.apply()"
   ]
  },
  {
   "attachments": {},
   "cell_type": "markdown",
   "metadata": {},
   "source": [
    "We configure the logging and our bot token."
   ]
  },
  {
   "cell_type": "code",
   "execution_count": null,
   "metadata": {},
   "outputs": [],
   "source": [
    "logging.basicConfig(\n",
    "    format='%(asctime)s - %(name)s - %(levelname)s - %(message)s',\n",
    "    level=logging.INFO\n",
    ")\n",
    "\n",
    "token = \"Private\""
   ]
  },
  {
   "attachments": {},
   "cell_type": "markdown",
   "metadata": {},
   "source": [
    "Now we define the functions.\n",
    "* `def start` is when you send \"/start\" to the bot to activate it.\n",
    "* `def finish_message` is to download the zip file with all the images once all of them are sent and processed.\n",
    "* `def remove_job_if_exists` is to avoid sending multiples finish messages, but only one at the end.\n",
    "* `def image_handler` is the function that is triggered when the user sent a image.\n",
    "* `def send_zip` send the zip file once the user tap or send \"/finish\"."
   ]
  },
  {
   "cell_type": "code",
   "execution_count": null,
   "metadata": {},
   "outputs": [],
   "source": [
    "async def start(update: Update, context: ContextTypes.DEFAULT_TYPE):\n",
    "    await context.bot.send_message(chat_id=update.effective_chat.id, text=\"I'm a bot, please talk to me!\")\n",
    "\n",
    "async def finish_message(context: ContextTypes.DEFAULT_TYPE):\n",
    "    await context.bot.send_message(context.job.chat_id, text=\"Tap /finish or send /finish to the bot in order to get the images.\")\n",
    "\n",
    "def remove_job_if_exists(name: str, context: ContextTypes.DEFAULT_TYPE) -> bool:\n",
    "    current_jobs = context.job_queue.get_jobs_by_name(name)\n",
    "    if not current_jobs:\n",
    "        return False\n",
    "    for job in current_jobs:\n",
    "        job.schedule_removal()\n",
    "    return True\n",
    "\n",
    "async def image_handler(update: Update, context: ContextTypes.DEFAULT_TYPE):\n",
    "    image = await update.message.photo[-1].get_file()\n",
    "    \n",
    "    if not os.path.exists(\"C:/Users/Atenea/Desktop/temp\"):\n",
    "        os.mkdir(\"C:/Users/Atenea/Desktop/temp\")\n",
    "\n",
    "    await image.download_to_drive(f\"C:/Users/Atenea/Desktop/temp/{image.file_unique_id}.jpg\")\n",
    "\n",
    "    job_removed = remove_job_if_exists(\"image\", context)\n",
    "    context.job_queue.run_once(name=\"image\",callback=finish_message, when=update.message.date + dt.timedelta(seconds = 5),chat_id=update.effective_chat.id)\n",
    "\n",
    "async def send_zip(update: Update,context: ContextTypes.DEFAULT_TYPE):\n",
    "\n",
    "    shutil.make_archive(\"C:/Users/Atenea/Desktop/images_downloaded\", 'zip', \"C:/Users/Atenea/Desktop/temp\")\n",
    "    shutil.rmtree(\"C:/Users/Atenea/Desktop/temp\")\n",
    "    await context.bot.send_document(chat_id=update.effective_chat.id, document=\"C:/Users/Atenea/Desktop/images_downloaded.zip\")\n",
    "    shutil.rmtree(\"C:/Users/Atenea/Desktop/images_downloaded.zip\")\n"
   ]
  },
  {
   "attachments": {},
   "cell_type": "markdown",
   "metadata": {},
   "source": [
    "Here we define the behaviour of the app and run it."
   ]
  },
  {
   "cell_type": "code",
   "execution_count": null,
   "metadata": {},
   "outputs": [],
   "source": [
    "if __name__ == '__main__':\n",
    "    application = ApplicationBuilder().token(token).build()\n",
    "    \n",
    "    start_handler = CommandHandler('start', start)\n",
    "    image_handler = MessageHandler(filters.PHOTO, image_handler)\n",
    "    send_zip_handler = CommandHandler(\"finish\", send_zip)\n",
    "\n",
    "    application.add_handler(start_handler)\n",
    "    application.add_handler(image_handler)\n",
    "    application.add_handler(send_zip_handler)\n",
    "\n",
    "    application.run_polling()"
   ]
  }
 ],
 "metadata": {
  "kernelspec": {
   "display_name": "Python 3",
   "language": "python",
   "name": "python3"
  },
  "language_info": {
   "codemirror_mode": {
    "name": "ipython",
    "version": 3
   },
   "file_extension": ".py",
   "mimetype": "text/x-python",
   "name": "python",
   "nbconvert_exporter": "python",
   "pygments_lexer": "ipython3",
   "version": "3.10.8"
  },
  "orig_nbformat": 4,
  "vscode": {
   "interpreter": {
    "hash": "a5b5aa7d95631abb3295a399a3e545c36d57854cae4f70f17b19ffee637b54b0"
   }
  }
 },
 "nbformat": 4,
 "nbformat_minor": 2
}
