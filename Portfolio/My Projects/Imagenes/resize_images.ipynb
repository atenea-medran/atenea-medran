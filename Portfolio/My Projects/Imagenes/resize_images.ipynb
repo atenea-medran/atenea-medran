{
 "cells": [
  {
   "attachments": {},
   "cell_type": "markdown",
   "metadata": {},
   "source": [
    "# Resize Images"
   ]
  },
  {
   "cell_type": "code",
   "execution_count": 17,
   "metadata": {},
   "outputs": [],
   "source": [
    "from PIL import Image\n",
    "import glob\n",
    "import os"
   ]
  },
  {
   "cell_type": "code",
   "execution_count": 18,
   "metadata": {},
   "outputs": [],
   "source": [
    "os.mkdir(\"./resized\")\n",
    "\n",
    "for file in glob.glob(\"*.png\"):\n",
    "    foo = Image.open(file)\n",
    "    width = foo.size[0]\n",
    "    height = foo.size[1]\n",
    "    name = file.split(\"\\\\\")[-1][:-4]\n",
    "    foo = foo.resize((int(width/4),int(height/4)),Image.Resampling.LANCZOS)\n",
    "    foo.save(f\"./resized/{name}_resized.png\", optimize=True, quality=70)"
   ]
  }
 ],
 "metadata": {
  "kernelspec": {
   "display_name": "Python 3",
   "language": "python",
   "name": "python3"
  },
  "language_info": {
   "codemirror_mode": {
    "name": "ipython",
    "version": 3
   },
   "file_extension": ".py",
   "mimetype": "text/x-python",
   "name": "python",
   "nbconvert_exporter": "python",
   "pygments_lexer": "ipython3",
   "version": "3.10.8"
  },
  "orig_nbformat": 4,
  "vscode": {
   "interpreter": {
    "hash": "a5b5aa7d95631abb3295a399a3e545c36d57854cae4f70f17b19ffee637b54b0"
   }
  }
 },
 "nbformat": 4,
 "nbformat_minor": 2
}
