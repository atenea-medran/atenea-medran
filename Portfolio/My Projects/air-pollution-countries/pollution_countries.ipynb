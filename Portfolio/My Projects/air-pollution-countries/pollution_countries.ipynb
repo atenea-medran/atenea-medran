{
 "cells": [
  {
   "cell_type": "markdown",
   "metadata": {},
   "source": [
    "# Pollution analysis"
   ]
  },
  {
   "attachments": {},
   "cell_type": "markdown",
   "metadata": {},
   "source": [
    "In this project we are going to analyze which country generates more pollution given 7 substances. We don't know which one is the more contaminant, so we're going to normalize the data in order to get some insight."
   ]
  },
  {
   "cell_type": "code",
   "execution_count": 1,
   "metadata": {},
   "outputs": [],
   "source": [
    "import pandas as pd\n",
    "import seaborn as sns\n",
    "import matplotlib.pyplot as plt"
   ]
  },
  {
   "cell_type": "code",
   "execution_count": 2,
   "metadata": {},
   "outputs": [
    {
     "data": {
      "text/html": [
       "<div>\n",
       "<style scoped>\n",
       "    .dataframe tbody tr th:only-of-type {\n",
       "        vertical-align: middle;\n",
       "    }\n",
       "\n",
       "    .dataframe tbody tr th {\n",
       "        vertical-align: top;\n",
       "    }\n",
       "\n",
       "    .dataframe thead th {\n",
       "        text-align: right;\n",
       "    }\n",
       "</style>\n",
       "<table border=\"1\" class=\"dataframe\">\n",
       "  <thead>\n",
       "    <tr style=\"text-align: right;\">\n",
       "      <th></th>\n",
       "      <th>Country</th>\n",
       "      <th>Nitrogen Oxide</th>\n",
       "      <th>Sulphur Dioxide</th>\n",
       "      <th>Carbon Monoxide</th>\n",
       "      <th>Organic Carbon</th>\n",
       "      <th>NMVOCs</th>\n",
       "      <th>Black Carbon</th>\n",
       "      <th>Ammonia</th>\n",
       "    </tr>\n",
       "  </thead>\n",
       "  <tbody>\n",
       "    <tr>\n",
       "      <th>0</th>\n",
       "      <td>_World</td>\n",
       "      <td>97207281.40</td>\n",
       "      <td>71657163.15</td>\n",
       "      <td>5.272669e+08</td>\n",
       "      <td>13568072.79</td>\n",
       "      <td>1.433979e+08</td>\n",
       "      <td>5741293.44</td>\n",
       "      <td>61420591.28</td>\n",
       "    </tr>\n",
       "    <tr>\n",
       "      <th>1</th>\n",
       "      <td>Afghanistan</td>\n",
       "      <td>480669.59</td>\n",
       "      <td>327818.55</td>\n",
       "      <td>1.055394e+06</td>\n",
       "      <td>42136.77</td>\n",
       "      <td>2.696026e+05</td>\n",
       "      <td>14917.44</td>\n",
       "      <td>185026.85</td>\n",
       "    </tr>\n",
       "    <tr>\n",
       "      <th>2</th>\n",
       "      <td>Albania</td>\n",
       "      <td>23371.85</td>\n",
       "      <td>11538.71</td>\n",
       "      <td>5.095350e+04</td>\n",
       "      <td>2645.76</td>\n",
       "      <td>2.548026e+04</td>\n",
       "      <td>945.79</td>\n",
       "      <td>44259.67</td>\n",
       "    </tr>\n",
       "    <tr>\n",
       "      <th>3</th>\n",
       "      <td>Algeria</td>\n",
       "      <td>487160.68</td>\n",
       "      <td>66457.71</td>\n",
       "      <td>7.195098e+05</td>\n",
       "      <td>92518.06</td>\n",
       "      <td>7.095178e+05</td>\n",
       "      <td>69293.18</td>\n",
       "      <td>113819.64</td>\n",
       "    </tr>\n",
       "    <tr>\n",
       "      <th>4</th>\n",
       "      <td>American Samoa</td>\n",
       "      <td>245.68</td>\n",
       "      <td>389.74</td>\n",
       "      <td>6.719900e+02</td>\n",
       "      <td>27.00</td>\n",
       "      <td>2.948000e+02</td>\n",
       "      <td>13.72</td>\n",
       "      <td>178.32</td>\n",
       "    </tr>\n",
       "    <tr>\n",
       "      <th>...</th>\n",
       "      <td>...</td>\n",
       "      <td>...</td>\n",
       "      <td>...</td>\n",
       "      <td>...</td>\n",
       "      <td>...</td>\n",
       "      <td>...</td>\n",
       "      <td>...</td>\n",
       "      <td>...</td>\n",
       "    </tr>\n",
       "    <tr>\n",
       "      <th>211</th>\n",
       "      <td>Vietnam</td>\n",
       "      <td>1177238.84</td>\n",
       "      <td>852061.42</td>\n",
       "      <td>1.170892e+07</td>\n",
       "      <td>226891.68</td>\n",
       "      <td>2.296905e+06</td>\n",
       "      <td>90055.98</td>\n",
       "      <td>667801.76</td>\n",
       "    </tr>\n",
       "    <tr>\n",
       "      <th>212</th>\n",
       "      <td>Wallis and Futuna</td>\n",
       "      <td>139.26</td>\n",
       "      <td>141.59</td>\n",
       "      <td>3.690400e+02</td>\n",
       "      <td>23.67</td>\n",
       "      <td>8.407000e+01</td>\n",
       "      <td>10.29</td>\n",
       "      <td>205.20</td>\n",
       "    </tr>\n",
       "    <tr>\n",
       "      <th>213</th>\n",
       "      <td>Yemen</td>\n",
       "      <td>55096.00</td>\n",
       "      <td>37454.55</td>\n",
       "      <td>1.561796e+05</td>\n",
       "      <td>6447.93</td>\n",
       "      <td>1.339025e+05</td>\n",
       "      <td>2142.05</td>\n",
       "      <td>96966.02</td>\n",
       "    </tr>\n",
       "    <tr>\n",
       "      <th>214</th>\n",
       "      <td>Zambia</td>\n",
       "      <td>56674.37</td>\n",
       "      <td>1194391.89</td>\n",
       "      <td>1.899273e+06</td>\n",
       "      <td>80081.84</td>\n",
       "      <td>5.264204e+05</td>\n",
       "      <td>23038.70</td>\n",
       "      <td>160141.44</td>\n",
       "    </tr>\n",
       "    <tr>\n",
       "      <th>215</th>\n",
       "      <td>Zimbabwe</td>\n",
       "      <td>70779.92</td>\n",
       "      <td>45896.98</td>\n",
       "      <td>1.647792e+06</td>\n",
       "      <td>114543.28</td>\n",
       "      <td>3.065748e+05</td>\n",
       "      <td>32364.53</td>\n",
       "      <td>121689.67</td>\n",
       "    </tr>\n",
       "  </tbody>\n",
       "</table>\n",
       "<p>216 rows × 8 columns</p>\n",
       "</div>"
      ],
      "text/plain": [
       "               Country  Nitrogen Oxide  Sulphur Dioxide  Carbon Monoxide  \\\n",
       "0               _World     97207281.40      71657163.15     5.272669e+08   \n",
       "1          Afghanistan       480669.59        327818.55     1.055394e+06   \n",
       "2              Albania        23371.85         11538.71     5.095350e+04   \n",
       "3              Algeria       487160.68         66457.71     7.195098e+05   \n",
       "4       American Samoa          245.68           389.74     6.719900e+02   \n",
       "..                 ...             ...              ...              ...   \n",
       "211            Vietnam      1177238.84        852061.42     1.170892e+07   \n",
       "212  Wallis and Futuna          139.26           141.59     3.690400e+02   \n",
       "213              Yemen        55096.00         37454.55     1.561796e+05   \n",
       "214             Zambia        56674.37       1194391.89     1.899273e+06   \n",
       "215           Zimbabwe        70779.92         45896.98     1.647792e+06   \n",
       "\n",
       "     Organic Carbon        NMVOCs  Black Carbon      Ammonia  \n",
       "0       13568072.79  1.433979e+08    5741293.44  61420591.28  \n",
       "1          42136.77  2.696026e+05      14917.44    185026.85  \n",
       "2           2645.76  2.548026e+04        945.79     44259.67  \n",
       "3          92518.06  7.095178e+05      69293.18    113819.64  \n",
       "4             27.00  2.948000e+02         13.72       178.32  \n",
       "..              ...           ...           ...          ...  \n",
       "211       226891.68  2.296905e+06      90055.98    667801.76  \n",
       "212           23.67  8.407000e+01         10.29       205.20  \n",
       "213         6447.93  1.339025e+05       2142.05     96966.02  \n",
       "214        80081.84  5.264204e+05      23038.70    160141.44  \n",
       "215       114543.28  3.065748e+05      32364.53    121689.67  \n",
       "\n",
       "[216 rows x 8 columns]"
      ]
     },
     "execution_count": 2,
     "metadata": {},
     "output_type": "execute_result"
    }
   ],
   "source": [
    "df = pd.read_csv('air-pollution-2019.csv')\n",
    "df"
   ]
  },
  {
   "attachments": {},
   "cell_type": "markdown",
   "metadata": {},
   "source": [
    "We need to drop the \"_World\" row. We also drop \"Guam\" because it has no data."
   ]
  },
  {
   "cell_type": "code",
   "execution_count": 5,
   "metadata": {},
   "outputs": [],
   "source": [
    "df = df[df[\"Country\"] != \"_World\"]\n",
    "df = df.drop(82,axis=0)"
   ]
  },
  {
   "attachments": {},
   "cell_type": "markdown",
   "metadata": {},
   "source": [
    "With this function we find the range in the dataframe series substraction the minimum from the maximum."
   ]
  },
  {
   "cell_type": "code",
   "execution_count": 7,
   "metadata": {},
   "outputs": [],
   "source": [
    "def find_range():\n",
    "    range_dict = {}\n",
    "    for col in df.columns[1:]:\n",
    "        range_dict[col] = df[col].max() - df[col].min()\n",
    "    return range_dict"
   ]
  },
  {
   "cell_type": "code",
   "execution_count": 8,
   "metadata": {},
   "outputs": [],
   "source": [
    "range_dict = find_range()"
   ]
  },
  {
   "attachments": {},
   "cell_type": "markdown",
   "metadata": {},
   "source": [
    "We store the ranges in a dictionary."
   ]
  },
  {
   "cell_type": "code",
   "execution_count": 9,
   "metadata": {},
   "outputs": [
    {
     "data": {
      "text/plain": [
       "{'Nitrogen Oxide': 22635844.8,\n",
       " 'Sulphur Dioxide': 12137897.600000001,\n",
       " 'Carbon Monoxide': 148447207.76,\n",
       " 'Organic Carbon': 2597599.93,\n",
       " 'NMVOCs': 29404851.479999997,\n",
       " 'Black Carbon': 1212819.81,\n",
       " 'Ammonia': 12277065.739999998}"
      ]
     },
     "execution_count": 9,
     "metadata": {},
     "output_type": "execute_result"
    }
   ],
   "source": [
    "range_dict"
   ]
  },
  {
   "attachments": {},
   "cell_type": "markdown",
   "metadata": {},
   "source": [
    "With this other function we are"
   ]
  },
  {
   "cell_type": "code",
   "execution_count": 8,
   "metadata": {},
   "outputs": [
    {
     "data": {
      "text/plain": [
       "Index(['Nitrogen Oxide', 'Sulphur Dioxide', 'Carbon Monoxide',\n",
       "       'Organic Carbon', 'NMVOCs', 'Black Carbon', 'Ammonia'],\n",
       "      dtype='object')"
      ]
     },
     "execution_count": 8,
     "metadata": {},
     "output_type": "execute_result"
    }
   ],
   "source": [
    "df.columns[1:]"
   ]
  },
  {
   "attachments": {},
   "cell_type": "markdown",
   "metadata": {},
   "source": [
    "With this other function we are going to calculate the pollution coefficient. For each row and substance, we are going to divide the value by the range. Then we are going to get the mean. So for example if a country is the maximum contaminant in a substance it will receive a value of 1. But if in another one get a 0.8 the mean will be 0.9."
   ]
  },
  {
   "cell_type": "code",
   "execution_count": 10,
   "metadata": {},
   "outputs": [],
   "source": [
    "def calculate_pollution(row):\n",
    "    sum = 0\n",
    "    for col in df.columns[1:]:\n",
    "        sum += row[col]/range_dict[col]\n",
    "    mean = round(sum/len(df.columns[1:]),3)\n",
    "    return mean"
   ]
  },
  {
   "attachments": {},
   "cell_type": "markdown",
   "metadata": {},
   "source": [
    "We apply the function and storage the data in a new column."
   ]
  },
  {
   "cell_type": "code",
   "execution_count": 11,
   "metadata": {},
   "outputs": [],
   "source": [
    "df[\"pollution_coef\"] = df.apply(calculate_pollution,axis=1)"
   ]
  },
  {
   "cell_type": "code",
   "execution_count": 12,
   "metadata": {},
   "outputs": [],
   "source": [
    "df_sorted = df.sort_values(by=\"pollution_coef\",ascending=False).head(5)"
   ]
  },
  {
   "cell_type": "code",
   "execution_count": 13,
   "metadata": {},
   "outputs": [
    {
     "data": {
      "text/html": [
       "<div>\n",
       "<style scoped>\n",
       "    .dataframe tbody tr th:only-of-type {\n",
       "        vertical-align: middle;\n",
       "    }\n",
       "\n",
       "    .dataframe tbody tr th {\n",
       "        vertical-align: top;\n",
       "    }\n",
       "\n",
       "    .dataframe thead th {\n",
       "        text-align: right;\n",
       "    }\n",
       "</style>\n",
       "<table border=\"1\" class=\"dataframe\">\n",
       "  <thead>\n",
       "    <tr style=\"text-align: right;\">\n",
       "      <th></th>\n",
       "      <th>Country</th>\n",
       "      <th>Nitrogen Oxide</th>\n",
       "      <th>Sulphur Dioxide</th>\n",
       "      <th>Carbon Monoxide</th>\n",
       "      <th>Organic Carbon</th>\n",
       "      <th>NMVOCs</th>\n",
       "      <th>Black Carbon</th>\n",
       "      <th>Ammonia</th>\n",
       "      <th>pollution_coef</th>\n",
       "    </tr>\n",
       "  </thead>\n",
       "  <tbody>\n",
       "    <tr>\n",
       "      <th>40</th>\n",
       "      <td>China</td>\n",
       "      <td>22635845.64</td>\n",
       "      <td>12137897.71</td>\n",
       "      <td>1.484472e+08</td>\n",
       "      <td>1926778.28</td>\n",
       "      <td>29404853.33</td>\n",
       "      <td>1212819.81</td>\n",
       "      <td>12277069.70</td>\n",
       "      <td>0.963</td>\n",
       "    </tr>\n",
       "    <tr>\n",
       "      <th>92</th>\n",
       "      <td>India</td>\n",
       "      <td>9476939.53</td>\n",
       "      <td>9672037.31</td>\n",
       "      <td>5.339256e+07</td>\n",
       "      <td>2597599.93</td>\n",
       "      <td>11053657.74</td>\n",
       "      <td>885926.98</td>\n",
       "      <td>10247139.62</td>\n",
       "      <td>0.645</td>\n",
       "    </tr>\n",
       "    <tr>\n",
       "      <th>206</th>\n",
       "      <td>United States</td>\n",
       "      <td>7679316.63</td>\n",
       "      <td>1921172.15</td>\n",
       "      <td>2.884336e+07</td>\n",
       "      <td>279399.57</td>\n",
       "      <td>10646076.14</td>\n",
       "      <td>128396.08</td>\n",
       "      <td>3628009.15</td>\n",
       "      <td>0.223</td>\n",
       "    </tr>\n",
       "    <tr>\n",
       "      <th>93</th>\n",
       "      <td>Indonesia</td>\n",
       "      <td>5038852.43</td>\n",
       "      <td>2595484.38</td>\n",
       "      <td>2.330981e+07</td>\n",
       "      <td>755683.79</td>\n",
       "      <td>7602169.19</td>\n",
       "      <td>269256.86</td>\n",
       "      <td>2003211.60</td>\n",
       "      <td>0.218</td>\n",
       "    </tr>\n",
       "    <tr>\n",
       "      <th>162</th>\n",
       "      <td>Russia</td>\n",
       "      <td>3650510.30</td>\n",
       "      <td>4936763.22</td>\n",
       "      <td>7.415945e+06</td>\n",
       "      <td>278986.61</td>\n",
       "      <td>3990978.97</td>\n",
       "      <td>156322.77</td>\n",
       "      <td>1177554.03</td>\n",
       "      <td>0.155</td>\n",
       "    </tr>\n",
       "  </tbody>\n",
       "</table>\n",
       "</div>"
      ],
      "text/plain": [
       "           Country  Nitrogen Oxide  Sulphur Dioxide  Carbon Monoxide  \\\n",
       "40           China     22635845.64      12137897.71     1.484472e+08   \n",
       "92           India      9476939.53       9672037.31     5.339256e+07   \n",
       "206  United States      7679316.63       1921172.15     2.884336e+07   \n",
       "93       Indonesia      5038852.43       2595484.38     2.330981e+07   \n",
       "162         Russia      3650510.30       4936763.22     7.415945e+06   \n",
       "\n",
       "     Organic Carbon       NMVOCs  Black Carbon      Ammonia  pollution_coef  \n",
       "40       1926778.28  29404853.33    1212819.81  12277069.70           0.963  \n",
       "92       2597599.93  11053657.74     885926.98  10247139.62           0.645  \n",
       "206       279399.57  10646076.14     128396.08   3628009.15           0.223  \n",
       "93        755683.79   7602169.19     269256.86   2003211.60           0.218  \n",
       "162       278986.61   3990978.97     156322.77   1177554.03           0.155  "
      ]
     },
     "execution_count": 13,
     "metadata": {},
     "output_type": "execute_result"
    }
   ],
   "source": [
    "df_sorted"
   ]
  },
  {
   "attachments": {},
   "cell_type": "markdown",
   "metadata": {},
   "source": [
    "Let's represent the top 5 of countries by pollution coefficient."
   ]
  },
  {
   "cell_type": "code",
   "execution_count": 14,
   "metadata": {},
   "outputs": [
    {
     "data": {
      "image/png": "[encoded data removed]",
      "text/plain": [
       "<Figure size 640x480 with 1 Axes>"
      ]
     },
     "metadata": {},
     "output_type": "display_data"
    }
   ],
   "source": [
    "df_sorted.sort_values(by=\"pollution_coef\").plot.barh(x=\"Country\",y=\"pollution_coef\")\n",
    "plt.show()"
   ]
  },
  {
   "attachments": {},
   "cell_type": "markdown",
   "metadata": {},
   "source": [
    "We can make another graph with the different substances stacked so we can spot differences."
   ]
  },
  {
   "cell_type": "code",
   "execution_count": 15,
   "metadata": {},
   "outputs": [
    {
     "data": {
      "image/png": "[encoded data removed]",
      "text/plain": [
       "<Figure size 1500x500 with 1 Axes>"
      ]
     },
     "metadata": {},
     "output_type": "display_data"
    }
   ],
   "source": [
    "ax = df_sorted.sort_values(by=\"pollution_coef\").iloc[:,:-1].plot.barh(x=\"Country\",stacked=True,figsize=(15,5))\n",
    "plt.xlim(0,2.5e8)\n",
    "plt.show()"
   ]
  },
  {
   "attachments": {},
   "cell_type": "markdown",
   "metadata": {},
   "source": [
    "Now we are going to compare some countries with the european continent as a whole. We begin filtering them."
   ]
  },
  {
   "cell_type": "code",
   "execution_count": 17,
   "metadata": {},
   "outputs": [
    {
     "data": {
      "text/html": [
       "<div>\n",
       "<style scoped>\n",
       "    .dataframe tbody tr th:only-of-type {\n",
       "        vertical-align: middle;\n",
       "    }\n",
       "\n",
       "    .dataframe tbody tr th {\n",
       "        vertical-align: top;\n",
       "    }\n",
       "\n",
       "    .dataframe thead th {\n",
       "        text-align: right;\n",
       "    }\n",
       "</style>\n",
       "<table border=\"1\" class=\"dataframe\">\n",
       "  <thead>\n",
       "    <tr style=\"text-align: right;\">\n",
       "      <th></th>\n",
       "      <th>Country</th>\n",
       "      <th>Nitrogen Oxide</th>\n",
       "      <th>Sulphur Dioxide</th>\n",
       "      <th>Carbon Monoxide</th>\n",
       "      <th>Organic Carbon</th>\n",
       "      <th>NMVOCs</th>\n",
       "      <th>Black Carbon</th>\n",
       "      <th>Ammonia</th>\n",
       "      <th>pollution_coef</th>\n",
       "    </tr>\n",
       "  </thead>\n",
       "  <tbody>\n",
       "    <tr>\n",
       "      <th>40</th>\n",
       "      <td>China</td>\n",
       "      <td>22635845.64</td>\n",
       "      <td>12137897.71</td>\n",
       "      <td>1.484472e+08</td>\n",
       "      <td>1926778.28</td>\n",
       "      <td>29404853.33</td>\n",
       "      <td>1212819.81</td>\n",
       "      <td>12277069.70</td>\n",
       "      <td>0.963</td>\n",
       "    </tr>\n",
       "    <tr>\n",
       "      <th>92</th>\n",
       "      <td>India</td>\n",
       "      <td>9476939.53</td>\n",
       "      <td>9672037.31</td>\n",
       "      <td>5.339256e+07</td>\n",
       "      <td>2597599.93</td>\n",
       "      <td>11053657.74</td>\n",
       "      <td>885926.98</td>\n",
       "      <td>10247139.62</td>\n",
       "      <td>0.645</td>\n",
       "    </tr>\n",
       "    <tr>\n",
       "      <th>206</th>\n",
       "      <td>United States</td>\n",
       "      <td>7679316.63</td>\n",
       "      <td>1921172.15</td>\n",
       "      <td>2.884336e+07</td>\n",
       "      <td>279399.57</td>\n",
       "      <td>10646076.14</td>\n",
       "      <td>128396.08</td>\n",
       "      <td>3628009.15</td>\n",
       "      <td>0.223</td>\n",
       "    </tr>\n",
       "  </tbody>\n",
       "</table>\n",
       "</div>"
      ],
      "text/plain": [
       "           Country  Nitrogen Oxide  Sulphur Dioxide  Carbon Monoxide  \\\n",
       "40           China     22635845.64      12137897.71     1.484472e+08   \n",
       "92           India      9476939.53       9672037.31     5.339256e+07   \n",
       "206  United States      7679316.63       1921172.15     2.884336e+07   \n",
       "\n",
       "     Organic Carbon       NMVOCs  Black Carbon      Ammonia  pollution_coef  \n",
       "40       1926778.28  29404853.33    1212819.81  12277069.70           0.963  \n",
       "92       2597599.93  11053657.74     885926.98  10247139.62           0.645  \n",
       "206       279399.57  10646076.14     128396.08   3628009.15           0.223  "
      ]
     },
     "execution_count": 17,
     "metadata": {},
     "output_type": "execute_result"
    }
   ],
   "source": [
    "df_4 = df[df['Country'].str.contains('|'.join([\"Europe\",\"China\",\"United States\",\"India\"]))]\n",
    "df_4"
   ]
  },
  {
   "cell_type": "code",
   "execution_count": 9,
   "metadata": {},
   "outputs": [],
   "source": [
    "europe_countries = pd.read_csv(\"countries_europe.csv\")"
   ]
  },
  {
   "attachments": {},
   "cell_type": "markdown",
   "metadata": {},
   "source": [
    "We extract the countries into a list."
   ]
  },
  {
   "cell_type": "code",
   "execution_count": 11,
   "metadata": {},
   "outputs": [],
   "source": [
    "europe_countries_list = europe_countries['name'].tolist()"
   ]
  },
  {
   "cell_type": "markdown",
   "metadata": {},
   "source": [
    "And then we filter the dataframe with that list."
   ]
  },
  {
   "cell_type": "code",
   "execution_count": null,
   "metadata": {},
   "outputs": [],
   "source": [
    "europe_df = df[df['Country'].str.contains('|'.join(europe_countries_list))]\n",
    "europe = europe_df.sum()\n",
    "europe[\"Country\"] = \"Europe\""
   ]
  },
  {
   "cell_type": "code",
   "execution_count": 13,
   "metadata": {},
   "outputs": [
    {
     "data": {
      "text/plain": [
       "Country                 Europe\n",
       "Nitrogen Oxide      7326743.09\n",
       "Sulphur Dioxide     3255092.11\n",
       "Carbon Monoxide    20949860.39\n",
       "Organic Carbon       730609.18\n",
       "NMVOCs              7839419.63\n",
       "Black Carbon         221867.54\n",
       "Ammonia             5319980.75\n",
       "dtype: object"
      ]
     },
     "execution_count": 13,
     "metadata": {},
     "output_type": "execute_result"
    }
   ],
   "source": [
    "europe"
   ]
  },
  {
   "attachments": {},
   "cell_type": "markdown",
   "metadata": {},
   "source": [
    "We convert it into a dataframe and the transpose it so we can concat it to the main dataframe."
   ]
  },
  {
   "cell_type": "code",
   "execution_count": 20,
   "metadata": {},
   "outputs": [],
   "source": [
    "europe_df = pd.DataFrame(europe).transpose()"
   ]
  },
  {
   "cell_type": "code",
   "execution_count": 21,
   "metadata": {},
   "outputs": [
    {
     "data": {
      "text/html": [
       "<div>\n",
       "<style scoped>\n",
       "    .dataframe tbody tr th:only-of-type {\n",
       "        vertical-align: middle;\n",
       "    }\n",
       "\n",
       "    .dataframe tbody tr th {\n",
       "        vertical-align: top;\n",
       "    }\n",
       "\n",
       "    .dataframe thead th {\n",
       "        text-align: right;\n",
       "    }\n",
       "</style>\n",
       "<table border=\"1\" class=\"dataframe\">\n",
       "  <thead>\n",
       "    <tr style=\"text-align: right;\">\n",
       "      <th></th>\n",
       "      <th>Country</th>\n",
       "      <th>Nitrogen Oxide</th>\n",
       "      <th>Sulphur Dioxide</th>\n",
       "      <th>Carbon Monoxide</th>\n",
       "      <th>Organic Carbon</th>\n",
       "      <th>NMVOCs</th>\n",
       "      <th>Black Carbon</th>\n",
       "      <th>Ammonia</th>\n",
       "      <th>pollution_coef</th>\n",
       "    </tr>\n",
       "  </thead>\n",
       "  <tbody>\n",
       "    <tr>\n",
       "      <th>0</th>\n",
       "      <td>China</td>\n",
       "      <td>22635845.64</td>\n",
       "      <td>12137897.71</td>\n",
       "      <td>148447211.5</td>\n",
       "      <td>1926778.28</td>\n",
       "      <td>29404853.33</td>\n",
       "      <td>1212819.81</td>\n",
       "      <td>12277069.7</td>\n",
       "      <td>0.963</td>\n",
       "    </tr>\n",
       "    <tr>\n",
       "      <th>1</th>\n",
       "      <td>India</td>\n",
       "      <td>9476939.53</td>\n",
       "      <td>9672037.31</td>\n",
       "      <td>53392563.74</td>\n",
       "      <td>2597599.93</td>\n",
       "      <td>11053657.74</td>\n",
       "      <td>885926.98</td>\n",
       "      <td>10247139.62</td>\n",
       "      <td>0.645</td>\n",
       "    </tr>\n",
       "    <tr>\n",
       "      <th>2</th>\n",
       "      <td>United States</td>\n",
       "      <td>7679316.63</td>\n",
       "      <td>1921172.15</td>\n",
       "      <td>28843362.52</td>\n",
       "      <td>279399.57</td>\n",
       "      <td>10646076.14</td>\n",
       "      <td>128396.08</td>\n",
       "      <td>3628009.15</td>\n",
       "      <td>0.223</td>\n",
       "    </tr>\n",
       "    <tr>\n",
       "      <th>3</th>\n",
       "      <td>Europe</td>\n",
       "      <td>7326743.09</td>\n",
       "      <td>3255092.11</td>\n",
       "      <td>20949860.39</td>\n",
       "      <td>730609.18</td>\n",
       "      <td>7839419.63</td>\n",
       "      <td>221867.54</td>\n",
       "      <td>5319980.75</td>\n",
       "      <td>0.27</td>\n",
       "    </tr>\n",
       "  </tbody>\n",
       "</table>\n",
       "</div>"
      ],
      "text/plain": [
       "         Country Nitrogen Oxide Sulphur Dioxide Carbon Monoxide  \\\n",
       "0          China    22635845.64     12137897.71     148447211.5   \n",
       "1          India     9476939.53      9672037.31     53392563.74   \n",
       "2  United States     7679316.63      1921172.15     28843362.52   \n",
       "3         Europe     7326743.09      3255092.11     20949860.39   \n",
       "\n",
       "  Organic Carbon       NMVOCs Black Carbon      Ammonia pollution_coef  \n",
       "0     1926778.28  29404853.33   1212819.81   12277069.7          0.963  \n",
       "1     2597599.93  11053657.74    885926.98  10247139.62          0.645  \n",
       "2      279399.57  10646076.14    128396.08   3628009.15          0.223  \n",
       "3      730609.18   7839419.63    221867.54   5319980.75           0.27  "
      ]
     },
     "execution_count": 21,
     "metadata": {},
     "output_type": "execute_result"
    }
   ],
   "source": [
    "df_4 = pd.concat([df_4,europe_df],ignore_index=True).tail(10)\n",
    "df_4"
   ]
  },
  {
   "attachments": {},
   "cell_type": "markdown",
   "metadata": {},
   "source": [
    "Now we can see that Europe is the 3rd most contaminant area."
   ]
  },
  {
   "cell_type": "code",
   "execution_count": 23,
   "metadata": {},
   "outputs": [
    {
     "data": {
      "image/png": "[encoded data removed]",
      "text/plain": [
       "<Figure size 640x480 with 1 Axes>"
      ]
     },
     "metadata": {},
     "output_type": "display_data"
    }
   ],
   "source": [
    "df_4.sort_values(by=\"pollution_coef\").plot.barh(x=\"Country\",y=\"pollution_coef\")\n",
    "plt.show()"
   ]
  },
  {
   "attachments": {},
   "cell_type": "markdown",
   "metadata": {},
   "source": [
    "### Conclusions\n",
    "\n",
    "This is a simple exercise to show a data normalization. Not all the substances are equally dangerous and a lot of countries pollute a lot through the fabrication of products for richer countries, not because of the consumption, so with this data que can't blame anyone."
   ]
  }
 ],
 "metadata": {
  "kernelspec": {
   "display_name": "Python 3.10.8 64-bit",
   "language": "python",
   "name": "python3"
  },
  "language_info": {
   "codemirror_mode": {
    "name": "ipython",
    "version": 3
   },
   "file_extension": ".py",
   "mimetype": "text/x-python",
   "name": "python",
   "nbconvert_exporter": "python",
   "pygments_lexer": "ipython3",
   "version": "3.10.8"
  },
  "orig_nbformat": 4,
  "vscode": {
   "interpreter": {
    "hash": "a5b5aa7d95631abb3295a399a3e545c36d57854cae4f70f17b19ffee637b54b0"
   }
  }
 },
 "nbformat": 4,
 "nbformat_minor": 2
}
